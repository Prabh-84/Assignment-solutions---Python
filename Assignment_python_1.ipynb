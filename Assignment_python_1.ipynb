{
  "nbformat": 4,
  "nbformat_minor": 0,
  "metadata": {
    "colab": {
      "provenance": [],
      "authorship_tag": "ABX9TyPO8ku5vvVQdQRWvMDN7OUn",
      "include_colab_link": true
    },
    "kernelspec": {
      "name": "python3",
      "display_name": "Python 3"
    },
    "language_info": {
      "name": "python"
    }
  },
  "cells": [
    {
      "cell_type": "markdown",
      "metadata": {
        "id": "view-in-github",
        "colab_type": "text"
      },
      "source": [
        "<a href=\"https://colab.research.google.com/github/Prabh-84/Assignment-solutions---Python/blob/main/Assignment_python_1.ipynb\" target=\"_parent\"><img src=\"https://colab.research.google.com/assets/colab-badge.svg\" alt=\"Open In Colab\"/></a>"
      ]
    },
    {
      "cell_type": "markdown",
      "source": [
        "Q1. L is a list defined as L= [11, 12, 13, 14].\n",
        "(i) WAP to add 50 and 60 to L."
      ],
      "metadata": {
        "id": "o2oQOAjxOxS-"
      }
    },
    {
      "cell_type": "code",
      "execution_count": 2,
      "metadata": {
        "colab": {
          "base_uri": "https://localhost:8080/"
        },
        "id": "T29L1ec7Orbw",
        "outputId": "510a2eb4-eaef-4c16-a625-0b602e8da0e5"
      },
      "outputs": [
        {
          "output_type": "stream",
          "name": "stdout",
          "text": [
            " Original list =  [11, 12, 13, 14]\n",
            " Update list =  [11, 12, 13, 14, 50, 60]\n"
          ]
        }
      ],
      "source": [
        "L = [11,12,13,14]\n",
        "print (\" Original list = \",L)\n",
        "L.append(50)\n",
        "L.append(60)\n",
        "print (\" Update list = \",L)"
      ]
    },
    {
      "cell_type": "markdown",
      "source": [
        "(ii) WAP to remove 11 and 13from L."
      ],
      "metadata": {
        "id": "Y2GysdxgP81v"
      }
    },
    {
      "cell_type": "code",
      "source": [
        "L = [11,12,13,14]\n",
        "print (\" Original list = \",L)\n",
        "\n",
        "del L[0]\n",
        "del L[1]\n",
        "print (\" Update list = \",L)"
      ],
      "metadata": {
        "colab": {
          "base_uri": "https://localhost:8080/"
        },
        "id": "oV70wS2KQAaZ",
        "outputId": "81ce3303-8063-4b39-d7c2-9232227874d5"
      },
      "execution_count": 3,
      "outputs": [
        {
          "output_type": "stream",
          "name": "stdout",
          "text": [
            " Original list =  [11, 12, 13, 14]\n",
            " Update list =  [12, 14]\n"
          ]
        }
      ]
    },
    {
      "cell_type": "markdown",
      "source": [
        "(iii) WAP to sort L in ascending order."
      ],
      "metadata": {
        "id": "5ubawfy3QXkS"
      }
    },
    {
      "cell_type": "code",
      "source": [
        "L = [11,12,13,14]\n",
        "print (\" Original list = \",L)\n",
        "L.sort()\n",
        "print (\" list in ascending order = \",L)"
      ],
      "metadata": {
        "colab": {
          "base_uri": "https://localhost:8080/"
        },
        "id": "AJUnTwv7QZj1",
        "outputId": "8d445a82-732d-422d-c89e-c57f04807b48"
      },
      "execution_count": 4,
      "outputs": [
        {
          "output_type": "stream",
          "name": "stdout",
          "text": [
            " Original list =  [11, 12, 13, 14]\n",
            " list in ascending order =  [11, 12, 13, 14]\n"
          ]
        }
      ]
    },
    {
      "cell_type": "markdown",
      "source": [
        "(iv) WAP to sort L in descending order.\n"
      ],
      "metadata": {
        "id": "YsOYFLkSRE9s"
      }
    },
    {
      "cell_type": "code",
      "source": [
        "L = [11,12,13,14]\n",
        "print (\" Original list = \",L)\n",
        "L.sort(reverse=True)\n",
        "print (\" list in descending order = \",L)"
      ],
      "metadata": {
        "colab": {
          "base_uri": "https://localhost:8080/"
        },
        "id": "qqA2xRZcRGa5",
        "outputId": "233b1cd4-5cf9-4486-9db4-6f4a9d81a5bc"
      },
      "execution_count": 5,
      "outputs": [
        {
          "output_type": "stream",
          "name": "stdout",
          "text": [
            " Original list =  [11, 12, 13, 14]\n",
            " list in descending order =  [14, 13, 12, 11]\n"
          ]
        }
      ]
    },
    {
      "cell_type": "markdown",
      "source": [
        "(v) WAP to search for 13 in L."
      ],
      "metadata": {
        "id": "QczzBPlSRauH"
      }
    },
    {
      "cell_type": "code",
      "source": [
        "L = [11,12,13,14]\n",
        "if (13 in L) == True:\n",
        "\tprint (\"Present\")\n",
        "else:\n",
        "\tprint (\"Not Present\")\n"
      ],
      "metadata": {
        "colab": {
          "base_uri": "https://localhost:8080/"
        },
        "id": "4n6L2EiPRcit",
        "outputId": "9b68f5a0-29cf-44e5-8a6b-606411e8213a"
      },
      "execution_count": 6,
      "outputs": [
        {
          "output_type": "stream",
          "name": "stdout",
          "text": [
            "Present\n"
          ]
        }
      ]
    },
    {
      "cell_type": "markdown",
      "source": [
        "(vi) WAP to count the number of elements present in L."
      ],
      "metadata": {
        "id": "xf2ajpmMSFah"
      }
    },
    {
      "cell_type": "code",
      "source": [
        "L = [11,12,13,14]\n",
        "print( \" Length of list = \",len(L))"
      ],
      "metadata": {
        "colab": {
          "base_uri": "https://localhost:8080/"
        },
        "id": "SIa3LGXnSGad",
        "outputId": "e3d96273-1df1-4352-dcc3-763b449b589c"
      },
      "execution_count": 7,
      "outputs": [
        {
          "output_type": "stream",
          "name": "stdout",
          "text": [
            " Length of list =  4\n"
          ]
        }
      ]
    },
    {
      "cell_type": "markdown",
      "source": [
        "(vii) WAP to sum all the elements in L.\n"
      ],
      "metadata": {
        "id": "Yz97oa5SSjua"
      }
    },
    {
      "cell_type": "code",
      "source": [
        "L = [11,12,13,14]\n",
        "print (\" Original list = \",L)\n",
        "print(\"sum = \",sum(L))"
      ],
      "metadata": {
        "colab": {
          "base_uri": "https://localhost:8080/"
        },
        "id": "MR16co8pSpOC",
        "outputId": "51a8f9fd-6137-40a7-fb7c-b89303fcc894"
      },
      "execution_count": 8,
      "outputs": [
        {
          "output_type": "stream",
          "name": "stdout",
          "text": [
            " Original list =  [11, 12, 13, 14]\n",
            "sum =  50\n"
          ]
        }
      ]
    },
    {
      "cell_type": "markdown",
      "source": [
        "WAP to sum all ODD numbers in L."
      ],
      "metadata": {
        "id": "g2oVtRuuUGF3"
      }
    },
    {
      "cell_type": "code",
      "source": [
        "L = [11,12,13,14]\n",
        "sum = 0\n",
        "for i in L:\n",
        " if i % 2 == 1:\n",
        "  sum = sum + i\n",
        "print(sum)"
      ],
      "metadata": {
        "colab": {
          "base_uri": "https://localhost:8080/"
        },
        "id": "JTHLDPNnUHSk",
        "outputId": "1d52536f-a572-4e47-89dc-646ba80da640"
      },
      "execution_count": 9,
      "outputs": [
        {
          "output_type": "stream",
          "name": "stdout",
          "text": [
            "24\n"
          ]
        }
      ]
    },
    {
      "cell_type": "markdown",
      "source": [
        "WAP to sum all EVEN numbers in L."
      ],
      "metadata": {
        "id": "7xTX7gDEW-nl"
      }
    },
    {
      "cell_type": "code",
      "source": [
        "L = [11,12,13,14]\n",
        "sum = 0\n",
        "for i in L:\n",
        " if i % 2 == 0:\n",
        "  sum = sum + i\n",
        "print(sum)"
      ],
      "metadata": {
        "colab": {
          "base_uri": "https://localhost:8080/"
        },
        "id": "R_90i46uXAHk",
        "outputId": "b83c0e10-41a8-4a2a-e667-6a6d6e86785d"
      },
      "execution_count": 10,
      "outputs": [
        {
          "output_type": "stream",
          "name": "stdout",
          "text": [
            "26\n"
          ]
        }
      ]
    },
    {
      "cell_type": "markdown",
      "source": [
        "WAP to sum all PRIME numbers in L."
      ],
      "metadata": {
        "id": "KBppsKAjXH80"
      }
    },
    {
      "cell_type": "code",
      "source": [
        "L = [11,12,13,14]\n",
        "def IsPrime(n):\n",
        "\tfor i in range(2, n//2 + 1):\n",
        "\t\tif n%i==0:\n",
        "\t\t\treturn 0\n",
        "\treturn 1\n",
        "\n",
        "sum = 0\n",
        "for i in L:\n",
        "    if IsPrime(i):\n",
        "        sum = sum + i\n",
        "print (sum)"
      ],
      "metadata": {
        "colab": {
          "base_uri": "https://localhost:8080/"
        },
        "id": "_kz3E8muXJHQ",
        "outputId": "3585c7f4-fdb9-421f-be23-4a9f8fe33b91"
      },
      "execution_count": 11,
      "outputs": [
        {
          "output_type": "stream",
          "name": "stdout",
          "text": [
            "24\n"
          ]
        }
      ]
    },
    {
      "cell_type": "markdown",
      "source": [
        "WAP to clear all the elements in L.\n"
      ],
      "metadata": {
        "id": "HtKR6UdaYxay"
      }
    },
    {
      "cell_type": "code",
      "source": [
        "L = [11,12,13,14]\n",
        "L.clear()\n",
        "print(L)"
      ],
      "metadata": {
        "colab": {
          "base_uri": "https://localhost:8080/"
        },
        "id": "-2U1Pc_9Y2ie",
        "outputId": "84cdf25a-9436-41ba-d9f0-1041b425485a"
      },
      "execution_count": 12,
      "outputs": [
        {
          "output_type": "stream",
          "name": "stdout",
          "text": [
            "[]\n"
          ]
        }
      ]
    },
    {
      "cell_type": "markdown",
      "source": [
        "(xii) WAP to delete L.\n"
      ],
      "metadata": {
        "id": "QgAw4ds-ZftU"
      }
    },
    {
      "cell_type": "code",
      "source": [
        "L = [11,12,13,14]\n",
        "del L"
      ],
      "metadata": {
        "id": "XKE19A7hZiuT"
      },
      "execution_count": 13,
      "outputs": []
    },
    {
      "cell_type": "markdown",
      "source": [
        "Q2. D is a dictionary defined as D= {1:5.6, 2:7.8, 3:6.6, 4:8.7, 5:7.7}."
      ],
      "metadata": {
        "id": "u6eu38mAaEhj"
      }
    },
    {
      "cell_type": "markdown",
      "source": [
        "(i) WAP to add new entry in D; key=8 and value is 8.8"
      ],
      "metadata": {
        "id": "aluuKwHDaFwE"
      }
    },
    {
      "cell_type": "code",
      "source": [
        "D= {1:5.6, 2:7.8, 3:6.6, 4:8.7, 5:7.7}\n",
        "D[8] = 8.8\n",
        "print(\" Dictionary after adding new entry \",D)"
      ],
      "metadata": {
        "colab": {
          "base_uri": "https://localhost:8080/"
        },
        "id": "tk3Y9UZhaIjL",
        "outputId": "effe4edd-0fba-4a2d-c5b3-6cfd948da32e"
      },
      "execution_count": 14,
      "outputs": [
        {
          "output_type": "stream",
          "name": "stdout",
          "text": [
            " Dictionary after adding new entry  {1: 5.6, 2: 7.8, 3: 6.6, 4: 8.7, 5: 7.7, 8: 8.8}\n"
          ]
        }
      ]
    },
    {
      "cell_type": "markdown",
      "source": [
        "WAP to remove key=2"
      ],
      "metadata": {
        "id": "4MNC-E5rbhXY"
      }
    },
    {
      "cell_type": "code",
      "source": [
        "D= {1:5.6, 2:7.8, 3:6.6, 4:8.7, 5:7.7}\n",
        "del D[2]\n",
        "print(\" Dictionary after deleting \",D)"
      ],
      "metadata": {
        "colab": {
          "base_uri": "https://localhost:8080/"
        },
        "id": "oF28Rq3wbjIK",
        "outputId": "037edc17-a899-495a-d505-6d6f91f70b38"
      },
      "execution_count": 15,
      "outputs": [
        {
          "output_type": "stream",
          "name": "stdout",
          "text": [
            " Dictionary after deleting  {1: 5.6, 3: 6.6, 4: 8.7, 5: 7.7}\n"
          ]
        }
      ]
    },
    {
      "cell_type": "markdown",
      "source": [
        "WAP to check weather 6 key is present in D"
      ],
      "metadata": {
        "id": "NqCD2OsEb6lQ"
      }
    },
    {
      "cell_type": "code",
      "source": [
        "D= {1:5.6, 2:7.8, 3:6.6, 4:8.7, 5:7.7}\n",
        "print(\" Is 6 key is present in D = \", 6 in D)"
      ],
      "metadata": {
        "colab": {
          "base_uri": "https://localhost:8080/"
        },
        "id": "qhGiurZdcHJ3",
        "outputId": "d5e55f01-1504-4b53-a5ef-b9e66405d1ef"
      },
      "execution_count": 16,
      "outputs": [
        {
          "output_type": "stream",
          "name": "stdout",
          "text": [
            " Is 6 key is present in D =  False\n"
          ]
        }
      ]
    },
    {
      "cell_type": "markdown",
      "source": [
        "WAP to count the number of elements present in D"
      ],
      "metadata": {
        "id": "gw_C4RXdcmPh"
      }
    },
    {
      "cell_type": "code",
      "source": [
        "D= {1:5.6, 2:7.8, 3:6.6, 4:8.7, 5:7.7}\n",
        "print(\" Length of Dictionary =\" , len(D))"
      ],
      "metadata": {
        "colab": {
          "base_uri": "https://localhost:8080/"
        },
        "id": "LhfZIoBMcwd_",
        "outputId": "a0eaab87-d6ca-4cb9-9c2b-4aef67fb4bf3"
      },
      "execution_count": 17,
      "outputs": [
        {
          "output_type": "stream",
          "name": "stdout",
          "text": [
            " Length of Dictionary = 5\n"
          ]
        }
      ]
    },
    {
      "cell_type": "markdown",
      "source": [
        "WAP to add all the values present D\n"
      ],
      "metadata": {
        "id": "vW-zCIyWdJs8"
      }
    },
    {
      "cell_type": "code",
      "source": [
        "D= {1:5.6, 2:7.8, 3:6.6, 4:8.7, 5:7.7}\n",
        "sum = 0\n",
        "for value in D.values():\n",
        "    sum = sum + value\n",
        "print(\"Sum of all values in dictionary:\", sum)"
      ],
      "metadata": {
        "id": "GVSQi_FSdLVC",
        "colab": {
          "base_uri": "https://localhost:8080/"
        },
        "outputId": "e8f60364-5983-42d5-fb24-7e0a43e3f370"
      },
      "execution_count": 18,
      "outputs": [
        {
          "output_type": "stream",
          "name": "stdout",
          "text": [
            "Sum of all values in dictionary: 36.4\n"
          ]
        }
      ]
    },
    {
      "cell_type": "markdown",
      "source": [
        "WAP to update the value of 3 to 7.1."
      ],
      "metadata": {
        "id": "xn7MsMiheTTO"
      }
    },
    {
      "cell_type": "code",
      "source": [
        "D= {1:5.6, 2:7.8, 3:6.6, 4:8.7, 5:7.7}\n",
        "D[3] = 7.1\n",
        "print(\"Dictionary after updating \",D)"
      ],
      "metadata": {
        "colab": {
          "base_uri": "https://localhost:8080/"
        },
        "id": "f4TwUJ7SeUhK",
        "outputId": "af5451c8-2816-4097-c2f3-538646f6aa74"
      },
      "execution_count": 19,
      "outputs": [
        {
          "output_type": "stream",
          "name": "stdout",
          "text": [
            "Dictionary after updating  {1: 5.6, 2: 7.8, 3: 7.1, 4: 8.7, 5: 7.7}\n"
          ]
        }
      ]
    },
    {
      "cell_type": "markdown",
      "source": [
        "WAP to clear the dictionary.\n"
      ],
      "metadata": {
        "id": "S1Y9loqJeurH"
      }
    },
    {
      "cell_type": "code",
      "source": [
        "D= {1:5.6, 2:7.8, 3:6.6, 4:8.7, 5:7.7}\n",
        "D.clear()\n",
        "print(D)"
      ],
      "metadata": {
        "colab": {
          "base_uri": "https://localhost:8080/"
        },
        "id": "mWtuO9x-evpC",
        "outputId": "5fb55eb1-12cb-48ae-d093-45b636bf959a"
      },
      "execution_count": 20,
      "outputs": [
        {
          "output_type": "stream",
          "name": "stdout",
          "text": [
            "{}\n"
          ]
        }
      ]
    },
    {
      "cell_type": "markdown",
      "source": [
        " S1 is a set defined as S1= [10, 20, 30, 40, 50, 60].\n",
        " S2 is a set defined as S2= [40, 50, 60, 70, 80, 90].\n",
        "(i) WAP to add 55 and 66 in Set S1."
      ],
      "metadata": {
        "id": "Wk6KUURFfi0Z"
      }
    },
    {
      "cell_type": "code",
      "source": [
        "S1 = set([10, 20, 30, 40, 50, 60])\n",
        "print (\"Original set S1 \",S1)\n",
        "S1.add(55)\n",
        "S1.add(66)\n",
        "print (\"updated set S1 \",S1)"
      ],
      "metadata": {
        "colab": {
          "base_uri": "https://localhost:8080/"
        },
        "id": "L1dY4TXZfj3i",
        "outputId": "db9f1d58-58fa-48fe-c74a-80646af55403"
      },
      "execution_count": 21,
      "outputs": [
        {
          "output_type": "stream",
          "name": "stdout",
          "text": [
            "Original set S1  {40, 10, 50, 20, 60, 30}\n",
            "updated set S1  {66, 40, 10, 50, 20, 55, 60, 30}\n"
          ]
        }
      ]
    },
    {
      "cell_type": "markdown",
      "source": [
        "(ii) WAP to remove 10 and 30 from Set S1."
      ],
      "metadata": {
        "id": "ywrZg2Z6hoQ0"
      }
    },
    {
      "cell_type": "code",
      "source": [
        "S1 = set([10, 20, 30, 40, 50, 60])\n",
        "print (\"Original set S1 \",S1)\n",
        "S1.remove(10)\n",
        "S1.remove(30)\n",
        "print (\"updated set S1 \",S1)"
      ],
      "metadata": {
        "colab": {
          "base_uri": "https://localhost:8080/"
        },
        "id": "NGI_2GHBhqT_",
        "outputId": "d1e009be-1c2e-406a-e0b2-bee0b110d05f"
      },
      "execution_count": 22,
      "outputs": [
        {
          "output_type": "stream",
          "name": "stdout",
          "text": [
            "Original set S1  {40, 10, 50, 20, 60, 30}\n",
            "updated set S1  {40, 50, 20, 60}\n"
          ]
        }
      ]
    },
    {
      "cell_type": "markdown",
      "source": [
        "(iii) WAP to check whether 40 is present in S1"
      ],
      "metadata": {
        "id": "iK5KzyC8h7ew"
      }
    },
    {
      "cell_type": "code",
      "source": [
        "S1 = set([10, 20, 30, 40, 50, 60])\n",
        "print(40 in S1)"
      ],
      "metadata": {
        "colab": {
          "base_uri": "https://localhost:8080/"
        },
        "id": "-5neVHL-h-aq",
        "outputId": "aa51cd73-d412-43aa-e084-b846e696c15c"
      },
      "execution_count": 23,
      "outputs": [
        {
          "output_type": "stream",
          "name": "stdout",
          "text": [
            "True\n"
          ]
        }
      ]
    },
    {
      "cell_type": "markdown",
      "source": [
        "(iv) WAP to find the union between S1 and S2."
      ],
      "metadata": {
        "id": "jPC5ax0CiYhA"
      }
    },
    {
      "cell_type": "code",
      "source": [
        "S1 = set([10, 20, 30, 40, 50, 60])\n",
        "S2 = set([40, 50, 60, 70, 80, 90])\n",
        "print (\"Union of S1 and S2    --> \", S1.union(S2))"
      ],
      "metadata": {
        "colab": {
          "base_uri": "https://localhost:8080/"
        },
        "id": "Eop6BLV4idt_",
        "outputId": "5e4f7233-eb39-46ee-e22c-de8cfaebe30b"
      },
      "execution_count": 24,
      "outputs": [
        {
          "output_type": "stream",
          "name": "stdout",
          "text": [
            "Union of S1 and S2    -->  {70, 40, 10, 80, 50, 20, 90, 60, 30}\n"
          ]
        }
      ]
    },
    {
      "cell_type": "markdown",
      "source": [
        "WAP to find the intersection between S1 and S2.\n"
      ],
      "metadata": {
        "id": "jTlRvwAmi4_r"
      }
    },
    {
      "cell_type": "code",
      "source": [
        "S1 = set([10, 20, 30, 40, 50, 60])\n",
        "S2 = set([40, 50, 60, 70, 80, 90])\n",
        "print (\"Intersection of S1 and S2--> \", S1.intersection(S2))"
      ],
      "metadata": {
        "colab": {
          "base_uri": "https://localhost:8080/"
        },
        "id": "7vlLzonni5zU",
        "outputId": "2b41058a-235d-4c10-e7d4-2e764abcf27c"
      },
      "execution_count": 25,
      "outputs": [
        {
          "output_type": "stream",
          "name": "stdout",
          "text": [
            "Intersection of S1 and S2-->  {40, 50, 60}\n"
          ]
        }
      ]
    },
    {
      "cell_type": "markdown",
      "source": [
        "WAP to find the S1 - S2."
      ],
      "metadata": {
        "id": "rvMX7ptsjGRy"
      }
    },
    {
      "cell_type": "code",
      "source": [
        "print (\"Difference S1 - S2   --> \", S1 - S2)"
      ],
      "metadata": {
        "colab": {
          "base_uri": "https://localhost:8080/"
        },
        "id": "ukjkmGHejJ0y",
        "outputId": "31440f18-b3fe-4028-8042-a82e9677bd0b"
      },
      "execution_count": 26,
      "outputs": [
        {
          "output_type": "stream",
          "name": "stdout",
          "text": [
            "Difference S1 - S2   -->  {10, 20, 30}\n"
          ]
        }
      ]
    },
    {
      "cell_type": "markdown",
      "source": [
        "Q4. Write the following program.\n",
        "(i) WAP to print 100 random strings whose length between 6 and 8."
      ],
      "metadata": {
        "id": "igGa9xjmjm7f"
      }
    },
    {
      "cell_type": "code",
      "source": [
        "import string as s\n",
        "import random as r\n",
        "print (\"String = \",s.ascii_letters)\n",
        "\n",
        "for i in range (1,101):\n",
        "  passw=r.sample(s.ascii_letters,r.randint(6,8))\n",
        "  passw1=\"\".join(passw)\n",
        "  print (\"passwords - \"   ,passw1)"
      ],
      "metadata": {
        "colab": {
          "base_uri": "https://localhost:8080/"
        },
        "id": "WzS-eSwZmfeG",
        "outputId": "660ce592-9129-4f2b-da81-3f84b5dead40"
      },
      "execution_count": 27,
      "outputs": [
        {
          "output_type": "stream",
          "name": "stdout",
          "text": [
            "String =  abcdefghijklmnopqrstuvwxyzABCDEFGHIJKLMNOPQRSTUVWXYZ\n",
            "passwords -  ZvAUVEk\n",
            "passwords -  fWTijB\n",
            "passwords -  jrAKFe\n",
            "passwords -  EVqKPNR\n",
            "passwords -  hYBbmKif\n",
            "passwords -  RfaeucY\n",
            "passwords -  nQxbOj\n",
            "passwords -  YDnXASF\n",
            "passwords -  nscuyYW\n",
            "passwords -  XOAMCZKR\n",
            "passwords -  yGJRKk\n",
            "passwords -  SGFETYc\n",
            "passwords -  jqbpxANB\n",
            "passwords -  VygMrs\n",
            "passwords -  lsnRmiYo\n",
            "passwords -  tiIKoyP\n",
            "passwords -  HDRYhCMb\n",
            "passwords -  aUWIzidu\n",
            "passwords -  VGcWkN\n",
            "passwords -  YxILUm\n",
            "passwords -  AgrNehw\n",
            "passwords -  rXEAyz\n",
            "passwords -  SRveOm\n",
            "passwords -  BVLFMf\n",
            "passwords -  KJtxWFB\n",
            "passwords -  TqWeplRr\n",
            "passwords -  tkMIjhJv\n",
            "passwords -  CYByql\n",
            "passwords -  HeXhmZ\n",
            "passwords -  VvDkAH\n",
            "passwords -  dPMZDvK\n",
            "passwords -  SyCpKaIF\n",
            "passwords -  GEhgKrq\n",
            "passwords -  evzRgZGn\n",
            "passwords -  VkpSMcJm\n",
            "passwords -  kdTajfGo\n",
            "passwords -  GwkJzB\n",
            "passwords -  riejVwT\n",
            "passwords -  YFGUam\n",
            "passwords -  KrZsvt\n",
            "passwords -  TybvFM\n",
            "passwords -  aiVNvrFM\n",
            "passwords -  IwiHBny\n",
            "passwords -  oGsmTHZ\n",
            "passwords -  QvEVgdx\n",
            "passwords -  ZseYjxVA\n",
            "passwords -  EKSpFQa\n",
            "passwords -  KrvmEkLM\n",
            "passwords -  uJYVhg\n",
            "passwords -  SEVfxphc\n",
            "passwords -  nyMvqRWa\n",
            "passwords -  rQKMokA\n",
            "passwords -  hPlewHdi\n",
            "passwords -  LFXEap\n",
            "passwords -  lDtIyuhK\n",
            "passwords -  VsTFMkH\n",
            "passwords -  LpICyxv\n",
            "passwords -  QuxkKz\n",
            "passwords -  RhHuLG\n",
            "passwords -  lFakNjJ\n",
            "passwords -  evljQTO\n",
            "passwords -  qXCneJrI\n",
            "passwords -  TpYrJi\n",
            "passwords -  QeAmBEH\n",
            "passwords -  jJvhDYEH\n",
            "passwords -  uvITAWYE\n",
            "passwords -  pdvSlPs\n",
            "passwords -  cXjOqu\n",
            "passwords -  IeWwGmJh\n",
            "passwords -  hNKjpE\n",
            "passwords -  bMdysSOY\n",
            "passwords -  IhmojFC\n",
            "passwords -  ckWFpz\n",
            "passwords -  zAhCRtq\n",
            "passwords -  WArdNBY\n",
            "passwords -  EiMoqOzf\n",
            "passwords -  dMWtaAb\n",
            "passwords -  pwyIiqhX\n",
            "passwords -  xJGpWy\n",
            "passwords -  cJoLade\n",
            "passwords -  izyhTZgL\n",
            "passwords -  APghMlv\n",
            "passwords -  mVsgxP\n",
            "passwords -  ThGQLzbg\n",
            "passwords -  KSeOzJUt\n",
            "passwords -  ZIyheb\n",
            "passwords -  eTlDajPF\n",
            "passwords -  tRiDMEIG\n",
            "passwords -  AsPFtuHc\n",
            "passwords -  ExuGsy\n",
            "passwords -  ZhKicW\n",
            "passwords -  hFBVUpyr\n",
            "passwords -  fiRIaq\n",
            "passwords -  hlyUMA\n",
            "passwords -  ncFxVP\n",
            "passwords -  OiNEdraz\n",
            "passwords -  mtizZx\n",
            "passwords -  SJQMrAE\n",
            "passwords -  wzRGhDZa\n",
            "passwords -  gicStA\n"
          ]
        }
      ]
    },
    {
      "cell_type": "markdown",
      "source": [
        "WAP to print all prime numbers between 600 and 800."
      ],
      "metadata": {
        "id": "kRZYDUgWo2x9"
      }
    },
    {
      "cell_type": "code",
      "source": [
        "def Prime(n):\n",
        "\tfor i in range(2, n//2 + 1):\n",
        "\t\tif n%i==0:\n",
        "\t\t\treturn 0\n",
        "\treturn 1\n",
        "for i in range(600,800):\n",
        " if Prime(i)==1:\n",
        "   print(i)"
      ],
      "metadata": {
        "colab": {
          "base_uri": "https://localhost:8080/"
        },
        "id": "91MMobBso9vX",
        "outputId": "6e9bc829-efd6-4662-c241-2d0484593416"
      },
      "execution_count": 28,
      "outputs": [
        {
          "output_type": "stream",
          "name": "stdout",
          "text": [
            "601\n",
            "607\n",
            "613\n",
            "617\n",
            "619\n",
            "631\n",
            "641\n",
            "643\n",
            "647\n",
            "653\n",
            "659\n",
            "661\n",
            "673\n",
            "677\n",
            "683\n",
            "691\n",
            "701\n",
            "709\n",
            "719\n",
            "727\n",
            "733\n",
            "739\n",
            "743\n",
            "751\n",
            "757\n",
            "761\n",
            "769\n",
            "773\n",
            "787\n",
            "797\n"
          ]
        }
      ]
    },
    {
      "cell_type": "markdown",
      "source": [
        "WAP to print all numbers between 100 and 1000 that are divisible by 7 and 9"
      ],
      "metadata": {
        "id": "fz13Kol8pr59"
      }
    },
    {
      "cell_type": "code",
      "source": [
        "for i in range (100,1000):\n",
        "  if i % 7 ==0 and i % 9 ==0 :\n",
        "    print (i)\n"
      ],
      "metadata": {
        "colab": {
          "base_uri": "https://localhost:8080/"
        },
        "id": "iw5pAdWdpwFd",
        "outputId": "de10605a-dbf6-4d9b-f75d-06e79965b352"
      },
      "execution_count": 29,
      "outputs": [
        {
          "output_type": "stream",
          "name": "stdout",
          "text": [
            "126\n",
            "189\n",
            "252\n",
            "315\n",
            "378\n",
            "441\n",
            "504\n",
            "567\n",
            "630\n",
            "693\n",
            "756\n",
            "819\n",
            "882\n",
            "945\n"
          ]
        }
      ]
    },
    {
      "cell_type": "markdown",
      "source": [
        "Q5. WAP to create two lists of 10 random numbers between 10 and 30"
      ],
      "metadata": {
        "id": "jBLk9tLgqsee"
      }
    },
    {
      "cell_type": "code",
      "source": [
        "import random as r\n",
        "L1= (r.sample (range(1,100),6))\n",
        "print(\"L1 = \",L1)\n",
        "L2= (r.sample (range(1,100),6))\n",
        "print (\"L2 =\",L2)\n"
      ],
      "metadata": {
        "colab": {
          "base_uri": "https://localhost:8080/"
        },
        "id": "-7ss3kdBqtp1",
        "outputId": "62e37ebe-18c2-4b95-886c-7de2dfc750c2"
      },
      "execution_count": 30,
      "outputs": [
        {
          "output_type": "stream",
          "name": "stdout",
          "text": [
            "L1 =  [31, 38, 16, 72, 45, 11]\n",
            "L2 = [40, 14, 6, 42, 19, 79]\n"
          ]
        }
      ]
    },
    {
      "cell_type": "markdown",
      "source": [
        "(i) Common numbers in the two lists"
      ],
      "metadata": {
        "id": "bzi8iHmFxbNB"
      }
    },
    {
      "cell_type": "code",
      "source": [
        "L1 =  [70, 86, 57, 27, 54, 17]\n",
        "L2 = [49, 17, 5, 33, 64, 39]\n",
        "set1 = set(L1)\n",
        "set2 = set(L2)\n",
        "print (\"common numbers in lists \", set1.intersection(set2))\n"
      ],
      "metadata": {
        "colab": {
          "base_uri": "https://localhost:8080/"
        },
        "id": "DV7lvSyCxfct",
        "outputId": "4d14539b-3f9a-40f3-8c23-fa1f6dbd9a93"
      },
      "execution_count": 31,
      "outputs": [
        {
          "output_type": "stream",
          "name": "stdout",
          "text": [
            "common numbers in lists  {17}\n"
          ]
        }
      ]
    },
    {
      "cell_type": "markdown",
      "source": [
        "(ii) Unique numbers in both the list"
      ],
      "metadata": {
        "id": "jFo49W0ZyabF"
      }
    },
    {
      "cell_type": "code",
      "source": [
        "L1 =  [70, 86, 57, 27, 54, 17]\n",
        "L2 = [49, 17, 5, 33, 64, 39]\n",
        "set1 = set(L1)\n",
        "set2 = set(L2)\n",
        "print (\"unique numbers in lists \", set1.union(set2))\n"
      ],
      "metadata": {
        "colab": {
          "base_uri": "https://localhost:8080/"
        },
        "id": "jyFNmAV1yeN1",
        "outputId": "af829694-23c4-4648-e6f0-559d3fb85b66"
      },
      "execution_count": 32,
      "outputs": [
        {
          "output_type": "stream",
          "name": "stdout",
          "text": [
            "unique numbers in lists  {64, 33, 5, 70, 39, 17, 49, 54, 86, 57, 27}\n"
          ]
        }
      ]
    },
    {
      "cell_type": "markdown",
      "source": [
        "Minimum in both the list\n"
      ],
      "metadata": {
        "id": "hiqx1NfJysXu"
      }
    },
    {
      "cell_type": "code",
      "source": [
        "L1 =  [70, 86, 57, 27, 54, 17]\n",
        "L2 = [49, 17, 5, 33, 64, 39]\n",
        "print (\"min in L1 = \", min(L1))\n",
        "print (\"min in L2  = \", min(L2))"
      ],
      "metadata": {
        "colab": {
          "base_uri": "https://localhost:8080/"
        },
        "id": "KErk2v-_ytsj",
        "outputId": "01e89d21-43d4-4ce5-aaf5-d7d633e5d019"
      },
      "execution_count": 33,
      "outputs": [
        {
          "output_type": "stream",
          "name": "stdout",
          "text": [
            "min in L1 =  17\n",
            "min in L2  =  5\n"
          ]
        }
      ]
    },
    {
      "cell_type": "markdown",
      "source": [
        "Maximum in both the list"
      ],
      "metadata": {
        "id": "dhpD8c1yzHap"
      }
    },
    {
      "cell_type": "code",
      "source": [
        "L1 =  [70, 86, 57, 27, 54, 17]\n",
        "L2 = [49, 17, 5, 33, 64, 39]\n",
        "print (\"max in L1 = \", max(L1))\n",
        "print (\"max in L2  = \", max(L2))"
      ],
      "metadata": {
        "colab": {
          "base_uri": "https://localhost:8080/"
        },
        "id": "ShP24_XtzKai",
        "outputId": "7c9674b7-d6db-43fc-823a-463e705fc7db"
      },
      "execution_count": 34,
      "outputs": [
        {
          "output_type": "stream",
          "name": "stdout",
          "text": [
            "max in L1 =  86\n",
            "max in L2  =  64\n"
          ]
        }
      ]
    },
    {
      "cell_type": "markdown",
      "source": [
        " Sum of both the lists"
      ],
      "metadata": {
        "id": "TVyImfYJzWPy"
      }
    },
    {
      "cell_type": "code",
      "source": [
        "from builtins import sum\n",
        "\n",
        "L1 = [70, 86, 57, 27, 54, 17]\n",
        "L2 = [49, 17, 5, 33, 64, 39]\n",
        "\n",
        "a = sum(L1)\n",
        "b = sum(L2)\n",
        "\n",
        "print(\"sum of L1 = \", a)\n",
        "print(\"sum of L2 = \", b)"
      ],
      "metadata": {
        "colab": {
          "base_uri": "https://localhost:8080/"
        },
        "id": "_gy4xsAIzYPN",
        "outputId": "8340630e-56a0-4af0-8941-a19f077806bc"
      },
      "execution_count": 35,
      "outputs": [
        {
          "output_type": "stream",
          "name": "stdout",
          "text": [
            "sum of L1 =  311\n",
            "sum of L2 =  207\n"
          ]
        }
      ]
    },
    {
      "cell_type": "markdown",
      "source": [
        "Q6. WAP to create a list of 100 random numbers between 100 and 900. Count and print the:\n",
        "(i) All odd numbers\n",
        "(ii) All even numbers\n"
      ],
      "metadata": {
        "id": "xYPD27O_0may"
      }
    },
    {
      "cell_type": "code",
      "source": [
        "import random as r\n",
        "list = [r.randint(100, 900) for i in range(100)]\n",
        "\n",
        "oddcount = 0\n",
        "evencount = 0\n",
        "primecount = 0\n",
        "\n",
        "for i in list:\n",
        "    if i % 2 == 0:\n",
        "        evencount += 1\n",
        "        print(i)\n",
        "print(\"total number of even numbers \",evencount)\n",
        "for i in list:\n",
        "    if i % 2 == 1:\n",
        "        oddcount += 1\n",
        "        print(i)\n",
        "print(\"total number odd number \",oddcount)\n",
        "\n",
        "\n",
        "\n",
        "\n",
        "\n",
        "\n"
      ],
      "metadata": {
        "colab": {
          "base_uri": "https://localhost:8080/"
        },
        "id": "9ZZsUPhE0tuO",
        "outputId": "92729b24-37f8-400d-e45b-c58b6c26ad0b"
      },
      "execution_count": 36,
      "outputs": [
        {
          "output_type": "stream",
          "name": "stdout",
          "text": [
            "548\n",
            "362\n",
            "506\n",
            "600\n",
            "802\n",
            "578\n",
            "216\n",
            "872\n",
            "402\n",
            "388\n",
            "154\n",
            "262\n",
            "154\n",
            "570\n",
            "194\n",
            "490\n",
            "396\n",
            "606\n",
            "882\n",
            "688\n",
            "288\n",
            "208\n",
            "594\n",
            "814\n",
            "456\n",
            "786\n",
            "294\n",
            "260\n",
            "134\n",
            "330\n",
            "796\n",
            "204\n",
            "830\n",
            "878\n",
            "834\n",
            "544\n",
            "286\n",
            "520\n",
            "850\n",
            "760\n",
            "524\n",
            "670\n",
            "716\n",
            "236\n",
            "812\n",
            "634\n",
            "290\n",
            "776\n",
            "498\n",
            "802\n",
            "total number of even numbers  50\n",
            "107\n",
            "411\n",
            "851\n",
            "371\n",
            "627\n",
            "797\n",
            "319\n",
            "187\n",
            "269\n",
            "547\n",
            "835\n",
            "165\n",
            "105\n",
            "455\n",
            "803\n",
            "733\n",
            "887\n",
            "771\n",
            "391\n",
            "677\n",
            "685\n",
            "757\n",
            "355\n",
            "407\n",
            "833\n",
            "741\n",
            "217\n",
            "737\n",
            "329\n",
            "509\n",
            "857\n",
            "159\n",
            "417\n",
            "861\n",
            "745\n",
            "749\n",
            "707\n",
            "483\n",
            "573\n",
            "889\n",
            "327\n",
            "601\n",
            "205\n",
            "511\n",
            "691\n",
            "169\n",
            "123\n",
            "777\n",
            "239\n",
            "501\n",
            "total number odd number  50\n"
          ]
        }
      ]
    },
    {
      "cell_type": "markdown",
      "source": [
        "Q7 D is a dictionary defined as D={1:\"One\",2:\"Two\",3:\"Three\",4:\"Four\", 5:\"Five\"}.\n",
        " WAP to read all the keys and values from dictionary and write to the file in the given below format.\n",
        "Key1, Value1\n",
        "Key2, Value2\n",
        "Key3, Value3"
      ],
      "metadata": {
        "id": "Z1Ekh3Is3jjV"
      }
    },
    {
      "cell_type": "code",
      "source": [
        "D = {1: \"One\", 2: \"Two\", 3: \"Three\", 4: \"Four\", 5: \"Five\"}\n",
        "\n",
        "with open(\"output.txt\", \"w\") as f:\n",
        "    for key, value in D.items():\n",
        "        f.write(f\"Key{key}, Value{value}\\n\")"
      ],
      "metadata": {
        "id": "iYtrM-M9pPmV"
      },
      "execution_count": 37,
      "outputs": []
    },
    {
      "cell_type": "markdown",
      "source": [
        "Q8 L is a list defined as L={\"One\",\"Two\",\"Three\",\"Four\",\"Five\"}.\n",
        " WAP to count the length of reach element from a list and write to the file in the given below format:\n",
        "One, 3\n",
        "Two, 3\n",
        "Four, 4"
      ],
      "metadata": {
        "id": "R9SJpdXWqWQR"
      }
    },
    {
      "cell_type": "code",
      "source": [
        "L = [\"One\", \"Two\", \"Three\", \"Four\", \"Five\"]\n",
        "\n",
        "with open(\"output.txt\", \"w\") as f:\n",
        "  for element in L:\n",
        "    length = len(element)\n",
        "    f.write(f\"{element}, {length}\\n\")"
      ],
      "metadata": {
        "id": "Wdl-PuLT3pv0"
      },
      "execution_count": 38,
      "outputs": []
    },
    {
      "cell_type": "markdown",
      "source": [
        "Q9 Write to the file 100 random strings whose length between 10 and 15.\n"
      ],
      "metadata": {
        "id": "vU-6oy7dqiDY"
      }
    },
    {
      "cell_type": "code",
      "source": [
        "import random as r\n",
        "\n",
        "# Open the file for writing\n",
        "with open(\"random_strings.txt\", \"w\") as f:\n",
        "    # Generate and write 100 random strings\n",
        "    for _ in range(100):\n",
        "        # Generate a random string length between 10 and 15\n",
        "        string_length = r.randint(10, 15)\n",
        "\n",
        "        # Generate a random string of lowercase letters\n",
        "        random_string = ''.join(r.choice('abcdefghijklmnopqrstuvwxyz') for _ in range(string_length))\n",
        "\n",
        "        # Write the random string to the file\n",
        "        f.write(random_string + \"\\n\")"
      ],
      "metadata": {
        "id": "i6zo8hXK1BhU"
      },
      "execution_count": 39,
      "outputs": []
    },
    {
      "cell_type": "markdown",
      "source": [
        "Q10 Write to the file all prime numbers between 600 and 800.\n"
      ],
      "metadata": {
        "id": "tAt8x6Qql_0M"
      }
    },
    {
      "cell_type": "code",
      "source": [
        "# Open a file in write mode\n",
        "f=open('prime_numbers.txt', 'w')\n",
        "  # Iterate through the numbers from 600 to 800\n",
        "for num in range(600, 801):\n",
        "    # Check if the number is prime\n",
        "    is_prime = True\n",
        "    for i in range(2, int(num**0.5) + 1):\n",
        "      if num % i == 0:\n",
        "        is_prime = False\n",
        "        break\n",
        "    # If the number is prime, write it to the file\n",
        "    if is_prime:\n",
        "      f.write(f\"{num}\\n\")\n",
        "f.close()"
      ],
      "metadata": {
        "id": "qJLEgtbrmCh9"
      },
      "execution_count": 40,
      "outputs": []
    },
    {
      "cell_type": "markdown",
      "source": [
        "Q11. WAP to calculate the time taken by a program."
      ],
      "metadata": {
        "id": "S-6tCeEi5650"
      }
    },
    {
      "cell_type": "code",
      "source": [
        "import time as t\n",
        "begin =t.time()\n",
        "\n",
        "\n",
        "for i in range(1,5):\n",
        "    print(2*i)\n",
        "\n",
        "\n",
        "\n",
        "\n",
        "end = t.time()\n",
        "\n",
        "print(f\"Total runtime of the program is {end - begin}\")"
      ],
      "metadata": {
        "colab": {
          "base_uri": "https://localhost:8080/"
        },
        "id": "fnDIO4De58P1",
        "outputId": "b2a04b85-9ebe-47a8-b757-56af65020cfa"
      },
      "execution_count": 41,
      "outputs": [
        {
          "output_type": "stream",
          "name": "stdout",
          "text": [
            "2\n",
            "4\n",
            "6\n",
            "8\n",
            "Total runtime of the program is 0.0022211074829101562\n"
          ]
        }
      ]
    },
    {
      "cell_type": "markdown",
      "source": [
        "Q12. WAP to sort following number of elements in a list, calculate time taken and plot the graph.\n",
        "Number of elements in list Time Taken\n",
        "5k T1\n",
        "10k T2\n",
        "15k T3\n",
        "20k T4\n",
        "25k T5"
      ],
      "metadata": {
        "id": "Wuu7_nsGWYig"
      }
    },
    {
      "cell_type": "code",
      "source": [
        "import random as r\n",
        "begin1 =t.time()\n",
        "list1=[r.randint(1,5500) for i in range (5000)]\n",
        "list1.sort()\n",
        "end2 = t.time()\n",
        "print(f\"T1= {end - begin}\")\n",
        "begin2 =t.time()\n",
        "list2=[r.randint(1,11000) for i in range (10000)]\n",
        "list2.sort()\n",
        "end2 = t.time()\n",
        "print(f\"T2 ={end2 - begin2}\")\n",
        "\n",
        "begin3 =t.time()\n",
        "list3=[r.randint(1,17000) for i in range (15000)]\n",
        "list3.sort()\n",
        "end3 = t.time()\n",
        "print(f\"T3 = {end3 - begin3}\")\n",
        "\n",
        "begin4 =t.time()\n",
        "list4=[r.randint(1,22000) for i in range (20000)]\n",
        "list4.sort()\n",
        "end4 = t.time()\n",
        "print(f\"T4 = {end4 - begin4}\")\n",
        "\n",
        "begin5 =t.time()\n",
        "list5=[r.randint(1,30000) for i in range (25000)]\n",
        "list5.sort()\n",
        "end5= t.time()\n",
        "print(f\"T5 ={end5 - begin5}\")\n",
        "\n",
        "\n",
        "\n",
        "\n"
      ],
      "metadata": {
        "colab": {
          "base_uri": "https://localhost:8080/"
        },
        "id": "lps7uzwJWep-",
        "outputId": "3388cc55-c29c-4d27-f29a-d89c65476c46"
      },
      "execution_count": 42,
      "outputs": [
        {
          "output_type": "stream",
          "name": "stdout",
          "text": [
            "T1= 0.0022211074829101562\n",
            "T2 =0.010847330093383789\n",
            "T3 = 0.017789602279663086\n",
            "T4 = 0.02204155921936035\n",
            "T5 =0.026128768920898438\n"
          ]
        }
      ]
    },
    {
      "cell_type": "code",
      "source": [
        "import matplotlib.pyplot as plt\n",
        "import seaborn as sns\n",
        "a = [5000,10000, 15000,20000,25000]\n",
        "b = [0.0022211074829101562,0.010847330093383789,0.017789602279663086,0.02204155921936035,0.026128768920898438]\n",
        "figs = sns.lineplot(x=a,y=b)\n",
        "\n",
        "figs.set_title('Graph')\n",
        "figs.set_ylabel('Time taken to sort ')\n",
        "figs.set_xlabel('Number of elements in a  list')\n"
      ],
      "metadata": {
        "colab": {
          "base_uri": "https://localhost:8080/",
          "height": 490
        },
        "id": "Bq4aNMVHghM9",
        "outputId": "00f7e564-15dc-40f6-c001-57835d5f8584"
      },
      "execution_count": 45,
      "outputs": [
        {
          "output_type": "execute_result",
          "data": {
            "text/plain": [
              "Text(0.5, 0, 'Number of elements in a  list')"
            ]
          },
          "metadata": {},
          "execution_count": 45
        },
        {
          "output_type": "display_data",
          "data": {
            "text/plain": [
              "<Figure size 640x480 with 1 Axes>"
            ],
            "image/png": "[encoded data removed]"
          },
          "metadata": {}
        }
      ]
    },
    {
      "cell_type": "markdown",
      "source": [
        "Q13. WAP to create a dictionary of student marks in five subjects and you have to find the student\n",
        " having maximum and minimum ."
      ],
      "metadata": {
        "id": "OgJh9oZ8HxFo"
      }
    },
    {
      "cell_type": "code",
      "source": [
        "!pip install numpy\n",
        "import numpy as np\n",
        "\n",
        "student = { \"maths\" : 49, \"English\" : 78,\"Punjabi\" : 89, \"Science\" : 84, \"Hindi\" : 70}\n",
        "print(\"maximum marks = \" , max(student.values()))\n",
        "print(\"minimum  marks = \" , min(student.values()))\n"
      ],
      "metadata": {
        "colab": {
          "base_uri": "https://localhost:8080/"
        },
        "id": "MJnGueuxHyFL",
        "outputId": "4b2d7389-3d63-46a4-aeb3-7a40d1655b2f"
      },
      "execution_count": 55,
      "outputs": [
        {
          "output_type": "stream",
          "name": "stdout",
          "text": [
            "Requirement already satisfied: numpy in /usr/local/lib/python3.10/dist-packages (1.25.2)\n",
            "maximum marks =  89\n",
            "minimum  marks =  49\n"
          ]
        }
      ]
    }
  ]
}